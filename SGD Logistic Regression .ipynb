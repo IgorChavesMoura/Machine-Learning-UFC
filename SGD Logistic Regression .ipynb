{
 "cells": [
  {
   "cell_type": "code",
   "execution_count": 1,
   "metadata": {},
   "outputs": [],
   "source": [
    "import numpy as np\n",
    "import pandas as pd\n",
    "import matplotlib.pyplot as plt\n",
    "from math import exp,log\n",
    "from sklearn.utils import shuffle"
   ]
  },
  {
   "cell_type": "code",
   "execution_count": 2,
   "metadata": {},
   "outputs": [],
   "source": [
    "data_table = pd.read_csv('data_classification.csv')\n",
    "bias_col = [1 for i in range(len(data_table))]\n",
    "data_table.insert(loc=0,column='col0',value=bias_col)"
   ]
  },
  {
   "cell_type": "code",
   "execution_count": 3,
   "metadata": {},
   "outputs": [
    {
     "data": {
      "text/html": [
       "<div>\n",
       "<style scoped>\n",
       "    .dataframe tbody tr th:only-of-type {\n",
       "        vertical-align: middle;\n",
       "    }\n",
       "\n",
       "    .dataframe tbody tr th {\n",
       "        vertical-align: top;\n",
       "    }\n",
       "\n",
       "    .dataframe thead th {\n",
       "        text-align: right;\n",
       "    }\n",
       "</style>\n",
       "<table border=\"1\" class=\"dataframe\">\n",
       "  <thead>\n",
       "    <tr style=\"text-align: right;\">\n",
       "      <th></th>\n",
       "      <th>col0</th>\n",
       "      <th>col1</th>\n",
       "      <th>col2</th>\n",
       "      <th>result</th>\n",
       "    </tr>\n",
       "  </thead>\n",
       "  <tbody>\n",
       "    <tr>\n",
       "      <th>0</th>\n",
       "      <td>1</td>\n",
       "      <td>34.623660</td>\n",
       "      <td>78.024693</td>\n",
       "      <td>0</td>\n",
       "    </tr>\n",
       "    <tr>\n",
       "      <th>1</th>\n",
       "      <td>1</td>\n",
       "      <td>30.286711</td>\n",
       "      <td>43.894998</td>\n",
       "      <td>0</td>\n",
       "    </tr>\n",
       "    <tr>\n",
       "      <th>2</th>\n",
       "      <td>1</td>\n",
       "      <td>35.847409</td>\n",
       "      <td>72.902198</td>\n",
       "      <td>0</td>\n",
       "    </tr>\n",
       "    <tr>\n",
       "      <th>3</th>\n",
       "      <td>1</td>\n",
       "      <td>60.182599</td>\n",
       "      <td>86.308552</td>\n",
       "      <td>1</td>\n",
       "    </tr>\n",
       "    <tr>\n",
       "      <th>4</th>\n",
       "      <td>1</td>\n",
       "      <td>79.032736</td>\n",
       "      <td>75.344376</td>\n",
       "      <td>1</td>\n",
       "    </tr>\n",
       "    <tr>\n",
       "      <th>5</th>\n",
       "      <td>1</td>\n",
       "      <td>45.083277</td>\n",
       "      <td>56.316372</td>\n",
       "      <td>0</td>\n",
       "    </tr>\n",
       "    <tr>\n",
       "      <th>6</th>\n",
       "      <td>1</td>\n",
       "      <td>61.106665</td>\n",
       "      <td>96.511426</td>\n",
       "      <td>1</td>\n",
       "    </tr>\n",
       "    <tr>\n",
       "      <th>7</th>\n",
       "      <td>1</td>\n",
       "      <td>75.024746</td>\n",
       "      <td>46.554014</td>\n",
       "      <td>1</td>\n",
       "    </tr>\n",
       "    <tr>\n",
       "      <th>8</th>\n",
       "      <td>1</td>\n",
       "      <td>76.098787</td>\n",
       "      <td>87.420570</td>\n",
       "      <td>1</td>\n",
       "    </tr>\n",
       "    <tr>\n",
       "      <th>9</th>\n",
       "      <td>1</td>\n",
       "      <td>84.432820</td>\n",
       "      <td>43.533393</td>\n",
       "      <td>1</td>\n",
       "    </tr>\n",
       "  </tbody>\n",
       "</table>\n",
       "</div>"
      ],
      "text/plain": [
       "   col0       col1       col2  result\n",
       "0     1  34.623660  78.024693       0\n",
       "1     1  30.286711  43.894998       0\n",
       "2     1  35.847409  72.902198       0\n",
       "3     1  60.182599  86.308552       1\n",
       "4     1  79.032736  75.344376       1\n",
       "5     1  45.083277  56.316372       0\n",
       "6     1  61.106665  96.511426       1\n",
       "7     1  75.024746  46.554014       1\n",
       "8     1  76.098787  87.420570       1\n",
       "9     1  84.432820  43.533393       1"
      ]
     },
     "execution_count": 3,
     "metadata": {},
     "output_type": "execute_result"
    }
   ],
   "source": [
    "data_table.head(10)"
   ]
  },
  {
   "cell_type": "code",
   "execution_count": 4,
   "metadata": {},
   "outputs": [],
   "source": [
    "def sigmoid(z):   \n",
    "    return 1/(1 + np.exp(-z))"
   ]
  },
  {
   "cell_type": "code",
   "execution_count": 5,
   "metadata": {},
   "outputs": [],
   "source": [
    "def predict(row,coef):\n",
    "    \n",
    "    ypred = 0\n",
    "    \n",
    "    for i in range(len(row) - 1):\n",
    "        \n",
    "        ypred += coef[i] * row[i]\n",
    "        \n",
    "    return sigmoid(ypred)\n",
    "    "
   ]
  },
  {
   "cell_type": "code",
   "execution_count": 6,
   "metadata": {},
   "outputs": [],
   "source": [
    "def binary_cross_entropy(ypreds,ys):\n",
    "    \n",
    "    res = 0.0\n",
    "    \n",
    "    for ypred,y in zip(ypreds,ys):\n",
    "        \n",
    "        res += y*np.log(ypred) + (1 - y)*np.log(1 - ypred)\n",
    "\n",
    "    res /= len(ypreds)\n",
    "    \n",
    "    res = -res\n",
    "    \n",
    "    return res\n",
    "        "
   ]
  },
  {
   "cell_type": "code",
   "execution_count": 7,
   "metadata": {},
   "outputs": [
    {
     "data": {
      "text/plain": [
       "array([[ 1.        , 34.62365962, 78.02469282,  0.        ],\n",
       "       [ 1.        , 30.28671077, 43.89499752,  0.        ],\n",
       "       [ 1.        , 35.84740877, 72.90219803,  0.        ],\n",
       "       [ 1.        , 60.18259939, 86.3085521 ,  1.        ],\n",
       "       [ 1.        , 79.03273605, 75.34437644,  1.        ],\n",
       "       [ 1.        , 45.08327748, 56.31637178,  0.        ],\n",
       "       [ 1.        , 61.10666454, 96.51142588,  1.        ],\n",
       "       [ 1.        , 75.02474557, 46.55401354,  1.        ],\n",
       "       [ 1.        , 76.0987867 , 87.42056972,  1.        ],\n",
       "       [ 1.        , 84.43281996, 43.53339331,  1.        ],\n",
       "       [ 1.        , 95.86155507, 38.22527806,  0.        ],\n",
       "       [ 1.        , 75.01365839, 30.60326323,  0.        ],\n",
       "       [ 1.        , 82.30705337, 76.4819633 ,  1.        ],\n",
       "       [ 1.        , 69.36458876, 97.71869196,  1.        ],\n",
       "       [ 1.        , 39.53833914, 76.03681085,  0.        ],\n",
       "       [ 1.        , 53.97105215, 89.20735014,  1.        ],\n",
       "       [ 1.        , 69.07014406, 52.74046973,  1.        ],\n",
       "       [ 1.        , 67.94685548, 46.67857411,  0.        ],\n",
       "       [ 1.        , 70.66150955, 92.92713789,  1.        ],\n",
       "       [ 1.        , 76.97878373, 47.57596365,  1.        ],\n",
       "       [ 1.        , 67.37202755, 42.83843832,  0.        ],\n",
       "       [ 1.        , 89.67677575, 65.79936593,  1.        ],\n",
       "       [ 1.        , 50.53478829, 48.85581153,  0.        ],\n",
       "       [ 1.        , 34.21206098, 44.2095286 ,  0.        ],\n",
       "       [ 1.        , 77.92409145, 68.97235999,  1.        ],\n",
       "       [ 1.        , 62.27101367, 69.95445795,  1.        ],\n",
       "       [ 1.        , 80.19018075, 44.82162893,  1.        ],\n",
       "       [ 1.        , 93.1143888 , 38.80067034,  0.        ],\n",
       "       [ 1.        , 61.83020602, 50.25610789,  0.        ],\n",
       "       [ 1.        , 38.7858038 , 64.99568096,  0.        ],\n",
       "       [ 1.        , 61.37928945, 72.80788731,  1.        ],\n",
       "       [ 1.        , 85.40451939, 57.05198398,  1.        ],\n",
       "       [ 1.        , 52.10797973, 63.12762377,  0.        ],\n",
       "       [ 1.        , 52.04540477, 69.43286012,  1.        ],\n",
       "       [ 1.        , 40.23689374, 71.16774802,  0.        ],\n",
       "       [ 1.        , 54.63510555, 52.21388588,  0.        ],\n",
       "       [ 1.        , 33.91550011, 98.86943574,  0.        ],\n",
       "       [ 1.        , 64.17698887, 80.90806059,  1.        ],\n",
       "       [ 1.        , 74.78925296, 41.57341523,  0.        ],\n",
       "       [ 1.        , 34.18364003, 75.23772034,  0.        ],\n",
       "       [ 1.        , 83.90239366, 56.30804622,  1.        ],\n",
       "       [ 1.        , 51.54772027, 46.85629026,  0.        ],\n",
       "       [ 1.        , 94.44336777, 65.56892161,  1.        ],\n",
       "       [ 1.        , 82.36875376, 40.61825516,  0.        ],\n",
       "       [ 1.        , 51.04775177, 45.82270146,  0.        ],\n",
       "       [ 1.        , 62.22267576, 52.06099195,  0.        ],\n",
       "       [ 1.        , 77.19303493, 70.4582    ,  1.        ],\n",
       "       [ 1.        , 97.77159928, 86.72782233,  1.        ],\n",
       "       [ 1.        , 62.0730638 , 96.76882412,  1.        ],\n",
       "       [ 1.        , 91.5649745 , 88.69629255,  1.        ],\n",
       "       [ 1.        , 79.94481794, 74.16311935,  1.        ],\n",
       "       [ 1.        , 99.27252693, 60.999031  ,  1.        ],\n",
       "       [ 1.        , 90.54671411, 43.39060181,  1.        ],\n",
       "       [ 1.        , 34.52451385, 60.39634246,  0.        ],\n",
       "       [ 1.        , 50.28649612, 49.80453881,  0.        ],\n",
       "       [ 1.        , 49.58667722, 59.80895099,  0.        ],\n",
       "       [ 1.        , 97.64563396, 68.86157272,  1.        ],\n",
       "       [ 1.        , 32.57720017, 95.59854761,  0.        ],\n",
       "       [ 1.        , 74.24869137, 69.82457123,  1.        ],\n",
       "       [ 1.        , 71.79646206, 78.45356225,  1.        ],\n",
       "       [ 1.        , 75.39561147, 85.75993667,  1.        ],\n",
       "       [ 1.        , 35.28611282, 47.02051395,  0.        ],\n",
       "       [ 1.        , 56.2538175 , 39.26147251,  0.        ],\n",
       "       [ 1.        , 30.05882245, 49.59297387,  0.        ],\n",
       "       [ 1.        , 44.66826172, 66.45008615,  0.        ],\n",
       "       [ 1.        , 66.56089447, 41.09209808,  0.        ],\n",
       "       [ 1.        , 40.45755098, 97.53518549,  1.        ],\n",
       "       [ 1.        , 49.07256322, 51.88321182,  0.        ],\n",
       "       [ 1.        , 80.27957401, 92.11606081,  1.        ],\n",
       "       [ 1.        , 66.74671857, 60.99139403,  1.        ],\n",
       "       [ 1.        , 32.72283304, 43.30717306,  0.        ],\n",
       "       [ 1.        , 64.03932042, 78.03168802,  1.        ],\n",
       "       [ 1.        , 72.34649423, 96.22759297,  1.        ],\n",
       "       [ 1.        , 60.45788574, 73.0949981 ,  1.        ],\n",
       "       [ 1.        , 58.84095622, 75.85844831,  1.        ],\n",
       "       [ 1.        , 99.8278578 , 72.36925193,  1.        ],\n",
       "       [ 1.        , 47.26426911, 88.475865  ,  1.        ],\n",
       "       [ 1.        , 50.4581598 , 75.80985953,  1.        ],\n",
       "       [ 1.        , 60.45555629, 42.50840944,  0.        ],\n",
       "       [ 1.        , 82.22666158, 42.71987854,  0.        ],\n",
       "       [ 1.        , 88.91389642, 69.8037889 ,  1.        ],\n",
       "       [ 1.        , 94.83450672, 45.6943068 ,  1.        ],\n",
       "       [ 1.        , 67.31925747, 66.58935318,  1.        ],\n",
       "       [ 1.        , 57.23870632, 59.51428198,  1.        ],\n",
       "       [ 1.        , 80.366756  , 90.9601479 ,  1.        ],\n",
       "       [ 1.        , 68.46852179, 85.5943071 ,  1.        ],\n",
       "       [ 1.        , 42.07545454, 78.844786  ,  0.        ],\n",
       "       [ 1.        , 75.47770201, 90.424539  ,  1.        ],\n",
       "       [ 1.        , 78.63542435, 96.64742717,  1.        ],\n",
       "       [ 1.        , 52.34800399, 60.76950526,  0.        ],\n",
       "       [ 1.        , 94.09433113, 77.15910509,  1.        ],\n",
       "       [ 1.        , 90.44855097, 87.50879176,  1.        ],\n",
       "       [ 1.        , 55.48216114, 35.57070347,  0.        ],\n",
       "       [ 1.        , 74.49269242, 84.84513685,  1.        ],\n",
       "       [ 1.        , 89.84580671, 45.35828361,  1.        ],\n",
       "       [ 1.        , 83.48916274, 48.3802858 ,  1.        ],\n",
       "       [ 1.        , 42.26170081, 87.10385094,  1.        ],\n",
       "       [ 1.        , 99.31500881, 68.77540947,  1.        ],\n",
       "       [ 1.        , 55.34001756, 64.93193801,  1.        ],\n",
       "       [ 1.        , 74.775893  , 89.5298129 ,  1.        ]])"
      ]
     },
     "execution_count": 7,
     "metadata": {},
     "output_type": "execute_result"
    }
   ],
   "source": [
    "data_table.values"
   ]
  },
  {
   "cell_type": "code",
   "execution_count": null,
   "metadata": {},
   "outputs": [],
   "source": []
  },
  {
   "cell_type": "code",
   "execution_count": 8,
   "metadata": {},
   "outputs": [],
   "source": [
    "def sgd(train,lr,epochs):\n",
    "    coef = [0.0 for i in range(len(train[0]) - 1)]\n",
    "    \n",
    "    loss_history = []\n",
    "    \n",
    "    for epoch in range(epochs):\n",
    "                \n",
    "        shuffle(train)\n",
    "        \n",
    "        for row in train:\n",
    "            \n",
    "            ypred = predict(row,coef)\n",
    "            \n",
    "            error = row[-1] - ypred\n",
    "            \n",
    "            #coef[0] = coef[0] + lr * error\n",
    "            \n",
    "            for i in range(len(row) - 1):\n",
    "                \n",
    "                coef[i] = coef[i] + lr * error * row[i]\n",
    "                \n",
    "            \n",
    "        ys = []\n",
    "        ypreds = []\n",
    "        \n",
    "        ys  = [row[-1] for row in train]\n",
    "        ypreds = [predict(row,coef) for row in train]\n",
    "        \n",
    "        loss_history.append(binary_cross_entropy(ypreds,ys))    \n",
    "                \n",
    "    \n",
    "    plt.plot(range(epochs),loss_history)\n",
    "    \n",
    "    return coef\n",
    "            "
   ]
  },
  {
   "cell_type": "code",
   "execution_count": 19,
   "metadata": {},
   "outputs": [
    {
     "data": {
      "image/png": "[encoded data removed]",
      "text/plain": [
       "<Figure size 432x288 with 1 Axes>"
      ]
     },
     "metadata": {},
     "output_type": "display_data"
    }
   ],
   "source": [
    "coef = sgd(data_table.values,0.0005,15000)"
   ]
  },
  {
   "cell_type": "code",
   "execution_count": 10,
   "metadata": {},
   "outputs": [
    {
     "data": {
      "text/plain": [
       "3"
      ]
     },
     "execution_count": 10,
     "metadata": {},
     "output_type": "execute_result"
    }
   ],
   "source": [
    "len(coef)"
   ]
  }
 ],
 "metadata": {
  "kernelspec": {
   "display_name": "Python 3",
   "language": "python",
   "name": "python3"
  },
  "language_info": {
   "codemirror_mode": {
    "name": "ipython",
    "version": 3
   },
   "file_extension": ".py",
   "mimetype": "text/x-python",
   "name": "python",
   "nbconvert_exporter": "python",
   "pygments_lexer": "ipython3",
   "version": "3.6.5"
  }
 },
 "nbformat": 4,
 "nbformat_minor": 2
}
