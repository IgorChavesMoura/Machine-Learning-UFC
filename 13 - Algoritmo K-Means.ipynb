{
 "cells": [
  {
   "cell_type": "markdown",
   "metadata": {},
   "source": [
    "# Agrupamento via K-Means"
   ]
  },
  {
   "cell_type": "code",
   "execution_count": 1,
   "metadata": {},
   "outputs": [
    {
     "ename": "ModuleNotFoundError",
     "evalue": "No module named 'pandas'",
     "output_type": "error",
     "traceback": [
      "\u001b[0;31m---------------------------------------------------------------------------\u001b[0m",
      "\u001b[0;31mModuleNotFoundError\u001b[0m                       Traceback (most recent call last)",
      "\u001b[0;32m<ipython-input-1-855ebd55ee23>\u001b[0m in \u001b[0;36m<module>\u001b[0;34m\u001b[0m\n\u001b[1;32m      1\u001b[0m \u001b[0;32mimport\u001b[0m \u001b[0mnumpy\u001b[0m \u001b[0;32mas\u001b[0m \u001b[0mnp\u001b[0m\u001b[0;34m\u001b[0m\u001b[0;34m\u001b[0m\u001b[0m\n\u001b[0;32m----> 2\u001b[0;31m \u001b[0;32mimport\u001b[0m \u001b[0mpandas\u001b[0m \u001b[0;32mas\u001b[0m \u001b[0mpd\u001b[0m\u001b[0;34m\u001b[0m\u001b[0;34m\u001b[0m\u001b[0m\n\u001b[0m\u001b[1;32m      3\u001b[0m \u001b[0;32mimport\u001b[0m \u001b[0mmatplotlib\u001b[0m\u001b[0;34m.\u001b[0m\u001b[0mpyplot\u001b[0m \u001b[0;32mas\u001b[0m \u001b[0mplt\u001b[0m\u001b[0;34m\u001b[0m\u001b[0;34m\u001b[0m\u001b[0m\n\u001b[1;32m      4\u001b[0m \u001b[0;34m\u001b[0m\u001b[0m\n\u001b[1;32m      5\u001b[0m \u001b[0;32mimport\u001b[0m \u001b[0mcommon\u001b[0m \u001b[0;32mas\u001b[0m \u001b[0mcom\u001b[0m\u001b[0;34m\u001b[0m\u001b[0;34m\u001b[0m\u001b[0m\n",
      "\u001b[0;31mModuleNotFoundError\u001b[0m: No module named 'pandas'"
     ]
    }
   ],
   "source": [
    "import numpy as np\n",
    "import pandas as pd\n",
    "import matplotlib.pyplot as plt\n",
    "\n",
    "import common as com\n",
    "import clustering\n",
    "\n",
    "import sklearn.datasets as datasets\n",
    "\n",
    "np.random.seed(12345)\n",
    "\n",
    "x, y = datasets.make_blobs(n_samples=100, centers=4, cluster_std=1, random_state=12345)\n",
    "\n",
    "#labels = list(range(6))\n",
    "#colors = ['green', 'blue', 'red', 'black', 'orange', 'magenta', 'cyan']\n",
    "\n",
    "def plot_data(x, y, marker='o', legend=False, color=None):\n",
    "    labels = np.unique(y)\n",
    "    colors = plt.cm.hsv(np.linspace(0, 0.9, labels.shape[0]))\n",
    "    plt.rcParams.update({'font.size': com.fontsize})\n",
    "    for i, label in enumerate(labels):\n",
    "        if color == 'bw':\n",
    "            plt.scatter(x[y == label,0], x[y == label,1], s=10*com.markersize, marker=marker, color='k')  \n",
    "        else:    \n",
    "            plt.scatter(x[y == label,0], x[y == label,1],\n",
    "                        s=10*com.markersize, marker=marker, color=colors[i])      \n",
    "            \n",
    "    if legend:\n",
    "        plt.legend()\n",
    "        \n",
    "    \n",
    "fig = plt.figure(figsize=com.figsize)\n",
    "plot_data(x, y)\n",
    "#plt.savefig('figs/clustering_data.png', dpi=com.dpi)\n",
    "plt.show()\n",
    "xlim = fig.gca().get_xlim() \n",
    "ylim = fig.gca().get_ylim() "
   ]
  },
  {
   "cell_type": "markdown",
   "metadata": {},
   "source": [
    "## Dendrograma"
   ]
  },
  {
   "cell_type": "code",
   "execution_count": null,
   "metadata": {},
   "outputs": [],
   "source": [
    "from scipy.cluster.hierarchy import dendrogram, linkage\n",
    "\n",
    "x_dend, _ = datasets.make_blobs(n_samples=20, centers=4, cluster_std=1, random_state=12345)\n",
    "fig = plt.figure(figsize=com.figsize)\n",
    "plot_data(x_dend, _, color='bw')\n",
    "for i, xi in enumerate(x_dend):\n",
    "    plt.text(xi[0] + 0.15, xi[1] + 0.15, i)\n",
    "#plt.savefig('figs/clustering_dend_data.png', dpi=com.dpi)\n",
    "    \n",
    "plt.figure(figsize=com.figsize)\n",
    "dend = dendrogram(linkage(x_dend))\n",
    "#plt.savefig('figs/dendrogram.png', dpi=com.dpi)"
   ]
  },
  {
   "cell_type": "markdown",
   "metadata": {},
   "source": [
    "## K-means"
   ]
  },
  {
   "cell_type": "code",
   "execution_count": null,
   "metadata": {},
   "outputs": [],
   "source": [
    "K = 4\n",
    "num_rep = 10\n",
    "\n",
    "kmeans_result = clustering.kmeans(x, K=K, num_rep=num_rep)\n",
    "cluster_index = kmeans_result['cluster_index']\n",
    "centroids = kmeans_result['centroids']\n",
    "loss_history = kmeans_result['loss']\n",
    "\n",
    "plt.figure(figsize=com.figsize)\n",
    "plt.rcParams.update({'font.size': com.fontsize})\n",
    "plt.plot(range(1,len(loss_history)+1), loss_history, '-k', label='Clustering loss')\n",
    "plt.xlabel('Iterations', fontsize=com.fontsize)\n",
    "plt.ylabel('Reconstruction error', fontsize=com.fontsize)\n",
    "\n",
    "fig = plt.figure(figsize=com.figsize)\n",
    "plot_data(x, cluster_index)\n",
    "labels = np.unique(cluster_index)\n",
    "colors = plt.cm.hsv(np.linspace(0, 0.9, labels.shape[0]))\n",
    "for k in range(K):\n",
    "    plt.scatter(centroids[k,0], centroids[k,1], s=300, facecolors='w', edgecolors='k', linewidth=3)\n",
    "    plt.scatter(centroids[k,0], centroids[k,1], s=20, color='k')"
   ]
  },
  {
   "cell_type": "code",
   "execution_count": null,
   "metadata": {},
   "outputs": [],
   "source": [
    "distance_metric = 'euclidean'\n",
    "max_iter = 50\n",
    "num_rep = 10\n",
    "K_range = [2, 3, 4, 5]\n",
    "\n",
    "fig, axs = plt.subplots(2, 2, sharex=True, sharey=True, figsize=(16,12))\n",
    "\n",
    "loss_list = []\n",
    "db_list = []\n",
    "for i, K in enumerate(K_range):\n",
    "    \n",
    "    kmeans_result = clustering.kmeans(x, K, distance_metric=distance_metric, max_iter=max_iter, num_rep=num_rep)\n",
    "    cluster_index = kmeans_result['cluster_index']\n",
    "    centroids = kmeans_result['centroids']\n",
    "    loss_history = kmeans_result['loss']\n",
    "   \n",
    "    labels = np.unique(cluster_index)\n",
    "    colors = plt.cm.hsv(np.linspace(0, 0.9, labels.shape[0]))\n",
    "\n",
    "    axs.flatten()[i].set_xlim(xlim)\n",
    "    axs.flatten()[i].set_ylim(ylim)\n",
    "    for j, label in enumerate(np.unique(cluster_index)):\n",
    "        axs.flatten()[i].scatter(x[cluster_index == label,0], x[cluster_index == label,1],\n",
    "                        s=10*com.markersize, marker='o', color=colors[j])  \n",
    "    for k in range(K):\n",
    "        axs.flatten()[i].scatter(centroids[k,0], centroids[k,1], s=300, facecolors='w', edgecolors='k', linewidth=5)\n",
    "        axs.flatten()[i].scatter(centroids[k,0], centroids[k,1], s=20, color='k')\n",
    "    \n",
    "    db_list.append(clustering.db_index(x, kmeans_result))\n",
    "    axs.flatten()[i].set_title(\"K = %d, Reconstruction error = %.2f\\nDB index = %.4f\" %\n",
    "                               (K, loss_history[-1], db_list[-1]))\n",
    "    \n",
    "    loss_list.append(loss_history[-1])\n",
    "        \n",
    "#plt.savefig('figs/kmeans.png', dpi=com.dpi)\n",
    "\n",
    "plt.figure(figsize=com.figsize)\n",
    "plt.rcParams.update({'font.size': com.fontsize})\n",
    "plt.plot(K_range, loss_list, '-k', label='Clustering loss')\n",
    "plt.xlabel('K', fontsize=com.fontsize)\n",
    "plt.ylabel('Reconstruction error', fontsize=com.fontsize)\n",
    "\n",
    "#plt.savefig('figs/kmeans_error.png', dpi=com.dpi)\n",
    "\n",
    "plt.figure(figsize=com.figsize)\n",
    "plt.rcParams.update({'font.size': com.fontsize})\n",
    "plt.plot(K_range, db_list, '-k', label='DB index')\n",
    "plt.xlabel('K', fontsize=com.fontsize)\n",
    "plt.ylabel('DB index', fontsize=com.fontsize)\n",
    "\n",
    "#plt.savefig('figs/kmeans_db_index.png', dpi=com.dpi)"
   ]
  }
 ],
 "metadata": {
  "kernelspec": {
   "display_name": "Python 3",
   "language": "python",
   "name": "python3"
  },
  "language_info": {
   "codemirror_mode": {
    "name": "ipython",
    "version": 3
   },
   "file_extension": ".py",
   "mimetype": "text/x-python",
   "name": "python",
   "nbconvert_exporter": "python",
   "pygments_lexer": "ipython3",
   "version": "3.7.1"
  }
 },
 "nbformat": 4,
 "nbformat_minor": 2
}
