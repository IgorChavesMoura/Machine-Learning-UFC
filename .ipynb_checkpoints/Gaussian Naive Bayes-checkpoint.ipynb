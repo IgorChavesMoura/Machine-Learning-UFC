{
 "cells": [
  {
   "cell_type": "code",
   "execution_count": 1,
   "metadata": {},
   "outputs": [],
   "source": [
    "import numpy as np\n",
    "import pandas as pd\n",
    "import matplotlib.pyplot as plt"
   ]
  },
  {
   "cell_type": "code",
   "execution_count": 2,
   "metadata": {},
   "outputs": [],
   "source": [
    "data = pd.read_csv('blobs.txt',header=None)"
   ]
  },
  {
   "cell_type": "code",
   "execution_count": 3,
   "metadata": {},
   "outputs": [
    {
     "data": {
      "text/html": [
       "<div>\n",
       "<style scoped>\n",
       "    .dataframe tbody tr th:only-of-type {\n",
       "        vertical-align: middle;\n",
       "    }\n",
       "\n",
       "    .dataframe tbody tr th {\n",
       "        vertical-align: top;\n",
       "    }\n",
       "\n",
       "    .dataframe thead th {\n",
       "        text-align: right;\n",
       "    }\n",
       "</style>\n",
       "<table border=\"1\" class=\"dataframe\">\n",
       "  <thead>\n",
       "    <tr style=\"text-align: right;\">\n",
       "      <th></th>\n",
       "      <th>0</th>\n",
       "      <th>1</th>\n",
       "      <th>2</th>\n",
       "    </tr>\n",
       "  </thead>\n",
       "  <tbody>\n",
       "    <tr>\n",
       "      <th>0</th>\n",
       "      <td>-11.855987</td>\n",
       "      <td>0.297329</td>\n",
       "      <td>1</td>\n",
       "    </tr>\n",
       "    <tr>\n",
       "      <th>1</th>\n",
       "      <td>4.475038</td>\n",
       "      <td>-1.337873</td>\n",
       "      <td>2</td>\n",
       "    </tr>\n",
       "    <tr>\n",
       "      <th>2</th>\n",
       "      <td>-0.848391</td>\n",
       "      <td>-0.274620</td>\n",
       "      <td>2</td>\n",
       "    </tr>\n",
       "    <tr>\n",
       "      <th>3</th>\n",
       "      <td>-7.572817</td>\n",
       "      <td>-5.959816</td>\n",
       "      <td>1</td>\n",
       "    </tr>\n",
       "    <tr>\n",
       "      <th>4</th>\n",
       "      <td>10.867411</td>\n",
       "      <td>-5.654062</td>\n",
       "      <td>0</td>\n",
       "    </tr>\n",
       "    <tr>\n",
       "      <th>5</th>\n",
       "      <td>-4.566715</td>\n",
       "      <td>-5.450765</td>\n",
       "      <td>1</td>\n",
       "    </tr>\n",
       "    <tr>\n",
       "      <th>6</th>\n",
       "      <td>-0.374122</td>\n",
       "      <td>-5.349989</td>\n",
       "      <td>2</td>\n",
       "    </tr>\n",
       "    <tr>\n",
       "      <th>7</th>\n",
       "      <td>9.586179</td>\n",
       "      <td>0.376738</td>\n",
       "      <td>0</td>\n",
       "    </tr>\n",
       "    <tr>\n",
       "      <th>8</th>\n",
       "      <td>-3.531717</td>\n",
       "      <td>-10.616606</td>\n",
       "      <td>1</td>\n",
       "    </tr>\n",
       "    <tr>\n",
       "      <th>9</th>\n",
       "      <td>-6.232793</td>\n",
       "      <td>-3.523035</td>\n",
       "      <td>1</td>\n",
       "    </tr>\n",
       "  </tbody>\n",
       "</table>\n",
       "</div>"
      ],
      "text/plain": [
       "           0          1  2\n",
       "0 -11.855987   0.297329  1\n",
       "1   4.475038  -1.337873  2\n",
       "2  -0.848391  -0.274620  2\n",
       "3  -7.572817  -5.959816  1\n",
       "4  10.867411  -5.654062  0\n",
       "5  -4.566715  -5.450765  1\n",
       "6  -0.374122  -5.349989  2\n",
       "7   9.586179   0.376738  0\n",
       "8  -3.531717 -10.616606  1\n",
       "9  -6.232793  -3.523035  1"
      ]
     },
     "execution_count": 3,
     "metadata": {},
     "output_type": "execute_result"
    }
   ],
   "source": [
    "data.head(10)"
   ]
  },
  {
   "cell_type": "code",
   "execution_count": 4,
   "metadata": {},
   "outputs": [
    {
     "data": {
      "text/plain": [
       "<matplotlib.colorbar.Colorbar at 0x7f0cb6fe0da0>"
      ]
     },
     "execution_count": 4,
     "metadata": {},
     "output_type": "execute_result"
    },
    {
     "data": {
      "image/png": "[encoded data removed]",
      "text/plain": [
       "<Figure size 432x288 with 2 Axes>"
      ]
     },
     "metadata": {},
     "output_type": "display_data"
    }
   ],
   "source": [
    "x_plot = data[0].values\n",
    "y_plot = data[1].values\n",
    "colors_plot = data[2].values\n",
    "\n",
    "plt.scatter(x_plot,y_plot,c=colors_plot,cmap='viridis')\n",
    "plt.colorbar()"
   ]
  },
  {
   "cell_type": "code",
   "execution_count": 5,
   "metadata": {},
   "outputs": [],
   "source": [
    "def GNB(x,y,class_prior=None):\n",
    "    \n",
    "    classes = np.unique(y)\n",
    "    K = classe.shape[0]\n",
    "    D = x.shape[1]\n",
    "    \n",
    "    class_prob = np.zeros(K)\n",
    "    \n",
    "    mean = np.zeros((D,K))\n",
    "    var = np.zeros((D,K))\n",
    "    \n",
    "    if class_prior is None or class_prior.lower() == 'proportional':\n",
    "        class_prior = np.array([ np.sum(y == k) for k in classes])/y.shape[0]\n",
    "    else:\n",
    "        class_prior = (1/K) * np.ones(K)\n",
    "    \n",
    "    for k in classes:        \n",
    "        \n",
    "        x_k = x[y == k]\n",
    "                \n",
    "        mean[:,k] = np.mean(x_k,axis=0)\n",
    "        var[:,k] = np.var(x_k,axis=0)\n",
    "        \n",
    "    \n",
    "    model = { 'classes':classes, 'K':K, 'D':D, 'class_prior':class_prior,'mean':mean,'var':var }\n",
    "        \n",
    "    return model\n",
    "            \n",
    "        \n",
    "            "
   ]
  },
  {
   "cell_type": "code",
   "execution_count": 6,
   "metadata": {},
   "outputs": [
    {
     "name": "stdout",
     "output_type": "stream",
     "text": [
      "[0 1 2]\n"
     ]
    }
   ],
   "source": [
    "GNB(data[:1].values,data[2].values)"
   ]
  },
  {
   "cell_type": "code",
   "execution_count": null,
   "metadata": {},
   "outputs": [],
   "source": []
  }
 ],
 "metadata": {
  "kernelspec": {
   "display_name": "Python 3",
   "language": "python",
   "name": "python3"
  },
  "language_info": {
   "codemirror_mode": {
    "name": "ipython",
    "version": 3
   },
   "file_extension": ".py",
   "mimetype": "text/x-python",
   "name": "python",
   "nbconvert_exporter": "python",
   "pygments_lexer": "ipython3",
   "version": "3.6.5"
  }
 },
 "nbformat": 4,
 "nbformat_minor": 2
}
