{
 "cells": [
  {
   "cell_type": "markdown",
   "metadata": {},
   "source": [
    "# Comparação de métodos de classificação"
   ]
  },
  {
   "cell_type": "code",
   "execution_count": 1,
   "metadata": {},
   "outputs": [
    {
     "name": "stdout",
     "output_type": "stream",
     "text": [
      "Número de padrões: 846\n",
      "Número de atributos: 18\n",
      "Número de classes: 4\n"
     ]
    }
   ],
   "source": [
    "import numpy as np\n",
    "import pandas as pd\n",
    "import matplotlib.pyplot as plt\n",
    "from scipy.stats import multivariate_normal\n",
    "from sklearn.tree import DecisionTreeClassifier\n",
    "import warnings\n",
    "warnings.filterwarnings(\"ignore\")\n",
    "from sklearn import datasets\n",
    "from sklearn.metrics import confusion_matrix\n",
    "import common as com\n",
    "import logistic_regression as logreg\n",
    "import knn\n",
    "import statistical_classifiers as stat\n",
    "from sklearn.datasets import fetch_openml\n",
    "import neural_networks as neural_network\n",
    "from sklearn import svm\n",
    "\n",
    "#data = fetch_openml(name='mfeat-karhunen')\n",
    "#data = fetch_openml(name='heart-statlog')\n",
    "data = fetch_openml(name='vehicle')\n",
    "#data = fetch_openml(name='sonar')\n",
    "#data = fetch_openml(name='glass')\n",
    "#data = fetch_openml(name='ecoli')\n",
    "#data = fetch_openml(name='yeast')\n",
    "#data = fetch_openml(name='splice')\n",
    "#data = fetch_openml(name='vowel')\n",
    "#data = fetch_openml(name='credit-g')\n",
    "#data = fetch_openml(name='spambase')\n",
    "label_names = np.unique(data.target)\n",
    "x = data.data\n",
    "y = np.zeros(data.target.shape[0], dtype=int)\n",
    "for k, k_label in enumerate(label_names):\n",
    "    y[data.target == k_label] = k\n",
    "\n",
    "#data_table = pd.read_csv('data/ex2data1.txt', header=None)\n",
    "#data_table = pd.read_csv('data/ex2data2.txt', header=None)\n",
    "#data_table = pd.read_csv('data/blobs.txt', header=None)\n",
    "#data_table = pd.read_csv('data/blobs2.txt', header=None)\n",
    "#data_table = pd.read_csv('data/moons.txt', header=None)\n",
    "#x = data_table.drop(data_table.columns[-1], axis=1).values\n",
    "#y = data_table.iloc[:,data_table.columns[-1]].values\n",
    "#label_names = np.unique(y)\n",
    "\n",
    "#x, y = datasets.load_iris(return_X_y=True); label_names = datasets.load_iris()['target_names']\n",
    "#x, y = datasets.load_digits(return_X_y=True); label_names = datasets.load_digits()['target_names']\n",
    "#x, y = datasets.load_wine(return_X_y=True); label_names = datasets.load_wine()['target_names']\n",
    "#x, y = datasets.load_breast_cancer(return_X_y=True); label_names = datasets.load_breast_cancer()['target_names']\n",
    "#data = datasets.fetch_olivetti_faces(); x, y = data['data'], data['target']; label_names = np.unique(data['target'])\n",
    "\n",
    "train_ratio = 0.8\n",
    "validation_ratio = 0.2\n",
    "\n",
    "print(\"Número de padrões: %d\" % x.shape[0])\n",
    "print(\"Número de atributos: %d\" % x.shape[1])\n",
    "print(\"Número de classes: %d\" % np.unique(y).shape[0])"
   ]
  },
  {
   "cell_type": "markdown",
   "metadata": {},
   "source": [
    "## Divisão treino-teste"
   ]
  },
  {
   "cell_type": "code",
   "execution_count": 2,
   "metadata": {},
   "outputs": [
    {
     "name": "stdout",
     "output_type": "stream",
     "text": [
      "Número de padrões de treinamento: 678\n",
      "Número de padrões de teste: 168\n"
     ]
    }
   ],
   "source": [
    "np.random.seed(12345)\n",
    "\n",
    "number_train = int(np.ceil(train_ratio*(x.shape[0])))\n",
    "random_index = np.random.permutation(x.shape[0])\n",
    "train_index = random_index[:number_train+1]\n",
    "test_index = random_index[number_train+1:]\n",
    "\n",
    "x_train = x[train_index]\n",
    "x_test = x[test_index]\n",
    "y_train = y[train_index]\n",
    "y_test = y[test_index]\n",
    "\n",
    "print(\"Número de padrões de treinamento: %d\" % len(y_train))\n",
    "print(\"Número de padrões de teste: %d\" % len(y_test))"
   ]
  },
  {
   "cell_type": "markdown",
   "metadata": {},
   "source": [
    "## Normalização dos dados"
   ]
  },
  {
   "cell_type": "code",
   "execution_count": 3,
   "metadata": {},
   "outputs": [],
   "source": [
    "normalize_data = True\n",
    "\n",
    "if normalize_data:\n",
    "    x_mean = np.mean(x_train, axis=0)        \n",
    "    x_train -= x_mean\n",
    "    x_std = np.std(x_train, axis=0)\n",
    "    index_not_zero = x_std > 0\n",
    "    x_train[:,index_not_zero] /= x_std[index_not_zero]\n",
    "    \n",
    "    x_test -= x_mean\n",
    "    x_test[:,index_not_zero] /= x_std[index_not_zero]"
   ]
  },
  {
   "cell_type": "markdown",
   "metadata": {},
   "source": [
    "## Criação do conjunto de validação"
   ]
  },
  {
   "cell_type": "code",
   "execution_count": 4,
   "metadata": {},
   "outputs": [
    {
     "name": "stdout",
     "output_type": "stream",
     "text": [
      "Conjunto de treinamento: 543 amostras\n",
      "Conjunto de validação: 135 amostras\n"
     ]
    }
   ],
   "source": [
    "number_validation = int(np.ceil(validation_ratio*(x_train.shape[0])))\n",
    "number_train_validation = x_train.shape[0] - number_validation\n",
    "\n",
    "random_index = np.random.permutation(x_train.shape[0])\n",
    "train_index = random_index[:number_train_validation+1]\n",
    "validation_index = random_index[number_train_validation+1:number_train_validation+number_validation+1]\n",
    "\n",
    "x_train_validation, x_validation = x_train[train_index], x_train[validation_index]\n",
    "y_train_validation, y_validation = y_train[train_index], y_train[validation_index]\n",
    "\n",
    "print(\"Conjunto de treinamento: %d amostras\" % y_train_validation.shape[0])\n",
    "print(\"Conjunto de validação: %d amostras\" % y_validation.shape[0])"
   ]
  },
  {
   "cell_type": "markdown",
   "metadata": {},
   "source": [
    "## One hot encoding"
   ]
  },
  {
   "cell_type": "code",
   "execution_count": 5,
   "metadata": {},
   "outputs": [],
   "source": [
    "y_train_encoding = np.zeros((y_train.shape[0], max(y)+1))\n",
    "for i in range(y_train_encoding.shape[0]):\n",
    "    y_train_encoding[i,y_train[i]] = 1\n",
    "y_train_validation_encoding = np.zeros((y_train_validation.shape[0], max(y)+1))\n",
    "for i in range(y_train_validation_encoding.shape[0]):\n",
    "    y_train_validation_encoding[i,y_train_validation[i]] = 1\n",
    "y_validation_encoding = np.zeros((y_validation.shape[0], max(y)+1))\n",
    "for i in range(y_validation_encoding.shape[0]):\n",
    "    y_validation_encoding[i,y_validation[i]] = 1\n",
    "y_test_encoding = np.zeros((y_test.shape[0], max(y)+1))\n",
    "for i in range(y_test_encoding.shape[0]):\n",
    "    y_test_encoding[i,y_test[i]] = 1"
   ]
  },
  {
   "cell_type": "markdown",
   "metadata": {},
   "source": [
    "## Treinamento e avaliação de modelos de classificação"
   ]
  },
  {
   "cell_type": "markdown",
   "metadata": {},
   "source": [
    "### Regressão logística"
   ]
  },
  {
   "cell_type": "code",
   "execution_count": 6,
   "metadata": {},
   "outputs": [
    {
     "name": "stdout",
     "output_type": "stream",
     "text": [
      "[LogisticRegression] Selecionando modelos...\n",
      "[LogisticRegression] Melhor modelo encontrado: alpha=1.00e-01\n"
     ]
    }
   ],
   "source": [
    "print(\"[LogisticRegression] Selecionando modelos...\")\n",
    "\n",
    "num_epochs = 2000\n",
    "grid_search = np.logspace(-3, 0, 25) # alpha\n",
    "validation_list = []\n",
    "for i in range(grid_search.shape[0]):\n",
    "    alpha = grid_search[i]\n",
    "    \n",
    "    model_logreg = logreg.gd(x=x_train_validation, y=y_train_validation_encoding,\n",
    "                              alpha=alpha, num_epochs=num_epochs, compute_loss=False)\n",
    "    pred = np.argmax(logreg.predict(model_logreg['w'], x_validation), axis=1)\n",
    "    wrong_index_validation = y_validation != pred\n",
    "    validation_list.append(np.mean(wrong_index_validation))\n",
    "   \n",
    "best_alpha = grid_search[np.argmin(validation_list)] \n",
    "\n",
    "print(\"[LogisticRegression] Melhor modelo encontrado: alpha=%.2e\" % (best_alpha))"
   ]
  },
  {
   "cell_type": "code",
   "execution_count": 7,
   "metadata": {},
   "outputs": [
    {
     "name": "stdout",
     "output_type": "stream",
     "text": [
      "[LogisticRegression] Treinando modelo...\n"
     ]
    },
    {
     "data": {
      "image/png": "[encoded data removed]",
      "text/plain": [
       "<Figure size 576x432 with 1 Axes>"
      ]
     },
     "metadata": {
      "needs_background": "light"
     },
     "output_type": "display_data"
    },
    {
     "name": "stdout",
     "output_type": "stream",
     "text": [
      "[LogisticRegression] Avaliando modelo...\n",
      "[LogisticRegression] Taxa de erro no teste: 21.43%\n"
     ]
    }
   ],
   "source": [
    "print(\"[LogisticRegression] Treinando modelo...\")\n",
    "model_logreg = logreg.gd(x=x_train, y=y_train_encoding, alpha=best_alpha, num_epochs=num_epochs, compute_loss=True)\n",
    "\n",
    "com.plot_loss_path(model_logreg['loss_history'], 'Função custo ao longo das iterações do GD')\n",
    "\n",
    "print(\"[LogisticRegression] Avaliando modelo...\")\n",
    "pred_logreg = np.argmax(logreg.predict(model_logreg['w'], x_test), axis=1)\n",
    "\n",
    "wrong_index_test_logreg = pred_logreg != y_test\n",
    "print(\"[LogisticRegression] Taxa de erro no teste: %.2f%%\" % (100*np.mean(wrong_index_test_logreg)))"
   ]
  },
  {
   "cell_type": "markdown",
   "metadata": {},
   "source": [
    "### Análise de Discriminante Gaussiano"
   ]
  },
  {
   "cell_type": "code",
   "execution_count": 8,
   "metadata": {},
   "outputs": [
    {
     "name": "stdout",
     "output_type": "stream",
     "text": [
      "[GaussianDiscriminantAnalysis] Treinando modelo...\n",
      "[GaussianDiscriminantAnalysis] Avaliando modelo...\n",
      "[GaussianDiscriminantAnalysis] Taxa de erro no teste: 18.45%\n"
     ]
    }
   ],
   "source": [
    "print(\"[GaussianDiscriminantAnalysis] Treinando modelo...\")\n",
    "model_gda = stat.create_GDA(x=x_train, y=y_train)\n",
    "\n",
    "print(\"[GaussianDiscriminantAnalysis] Avaliando modelo...\")\n",
    "pred_gda = stat.predict_GDA(model=model_gda, x=x_test)\n",
    "\n",
    "wrong_index_test_gda = pred_gda != y_test\n",
    "print(\"[GaussianDiscriminantAnalysis] Taxa de erro no teste: %.2f%%\" % (100*np.mean(wrong_index_test_gda)))"
   ]
  },
  {
   "cell_type": "markdown",
   "metadata": {},
   "source": [
    "### Naive Bayes Gaussiano"
   ]
  },
  {
   "cell_type": "code",
   "execution_count": 9,
   "metadata": {},
   "outputs": [
    {
     "name": "stdout",
     "output_type": "stream",
     "text": [
      "[GaussianNaiveBayes] Treinando modelo...\n",
      "[GaussianNaiveBayes] Avaliando modelo...\n",
      "[GaussianNaiveBayes] Taxa de erro no teste: 48.21%\n"
     ]
    }
   ],
   "source": [
    "print(\"[GaussianNaiveBayes] Treinando modelo...\")\n",
    "model_gnb = stat.create_GNB(x=x_train, y=y_train)\n",
    "\n",
    "print(\"[GaussianNaiveBayes] Avaliando modelo...\")\n",
    "pred_gnb = stat.predict_GNB(model=model_gnb, x=x_test)\n",
    "\n",
    "wrong_index_test_gnb = pred_gnb != y_test\n",
    "print(\"[GaussianNaiveBayes] Taxa de erro no teste: %.2f%%\" % (100*np.mean(wrong_index_test_gnb)))"
   ]
  },
  {
   "cell_type": "markdown",
   "metadata": {},
   "source": [
    "### KNN"
   ]
  },
  {
   "cell_type": "code",
   "execution_count": 10,
   "metadata": {},
   "outputs": [
    {
     "name": "stdout",
     "output_type": "stream",
     "text": [
      "[KNN] Selecionando modelos...\n",
      "[KNN] Melhor modelo encontrado: K=1, 'distance_metric'=mahalanobis\n"
     ]
    }
   ],
   "source": [
    "print(\"[KNN] Selecionando modelos...\")\n",
    "\n",
    "grid_search = np.meshgrid(np.arange(1, 26, 2), # k\n",
    "                          ['euclidean', 'manhattan', 'mahalanobis']) # distance metric\n",
    "validation_list = []\n",
    "validation_list_index = []\n",
    "for i in range(grid_search[0].shape[0]):\n",
    "    for j in range(grid_search[1].shape[1]):\n",
    "        k = grid_search[0][i,j]\n",
    "        distance_metric = grid_search[1][i,j]   \n",
    "        \n",
    "        wrong_index_validation = y_validation != knn.predict_class(x=x_train_validation, y=y_train_validation,\n",
    "                                                                   x_new=x_validation,\n",
    "                                                                   k=k, distance_metric=distance_metric)\n",
    "        validation_list.append(np.mean(wrong_index_validation))\n",
    "        validation_list_index.append((i,j))\n",
    "   \n",
    "best_i, best_j = validation_list_index[np.argmin(validation_list)]   \n",
    "best_k = grid_search[0][best_i, best_j]\n",
    "best_distance_metric = grid_search[1][best_i, best_j]\n",
    "\n",
    "print(\"[KNN] Melhor modelo encontrado: K=%d, 'distance_metric'=%s\" % (best_k, best_distance_metric))"
   ]
  },
  {
   "cell_type": "code",
   "execution_count": 11,
   "metadata": {},
   "outputs": [
    {
     "name": "stdout",
     "output_type": "stream",
     "text": [
      "[KNN] Avaliando modelo...\n",
      "[KNN] Taxa de erro no teste: 26.19%\n"
     ]
    }
   ],
   "source": [
    "print(\"[KNN] Avaliando modelo...\")\n",
    "pred_knn = knn.predict_class(x_train, y_train, x_test, k=best_k, distance_metric=best_distance_metric)\n",
    "\n",
    "wrong_index_test_knn = pred_knn != y_test\n",
    "print(\"[KNN] Taxa de erro no teste: %.2f%%\" % (100*np.mean(wrong_index_test_knn)))"
   ]
  },
  {
   "cell_type": "markdown",
   "metadata": {},
   "source": [
    "### Árvore de decisão"
   ]
  },
  {
   "cell_type": "code",
   "execution_count": 12,
   "metadata": {},
   "outputs": [
    {
     "name": "stdout",
     "output_type": "stream",
     "text": [
      "[DecisionTree] Selecionando modelos...\n",
      "[DecisionTree] Melhor modelo encontrado: 'criterion'=entropy, max_depth=10, min_samples_leaf=1\n"
     ]
    }
   ],
   "source": [
    "print(\"[DecisionTree] Selecionando modelos...\")\n",
    "\n",
    "grid_search = np.meshgrid(['gini', 'entropy'], # criterion\n",
    "                          np.arange(2, 16, 1), # max_depth\n",
    "                          np.arange(1, 21, 2)) # min_samples_leaf\n",
    "validation_list = []\n",
    "validation_list_index = []\n",
    "for i in range(grid_search[0].shape[0]):\n",
    "    for j in range(grid_search[1].shape[1]):\n",
    "        for k in range(grid_search[2].shape[2]):\n",
    "            criterion = grid_search[0][i,j,k]\n",
    "            max_depth = grid_search[1][i,j,k]   \n",
    "            min_samples_leaf = grid_search[2][i,j,k]   \n",
    "\n",
    "            model_tree = DecisionTreeClassifier(criterion=criterion, max_depth=max_depth,\n",
    "                                                min_samples_leaf=min_samples_leaf,\n",
    "                                                presort=True, random_state=1)\n",
    "            model_tree.fit(x_train_validation, y_train_validation)\n",
    "            \n",
    "            wrong_index_validation = y_validation != model_tree.predict(x_validation)\n",
    "            validation_list.append(np.mean(wrong_index_validation))\n",
    "            validation_list_index.append((i,j,k))\n",
    "   \n",
    "best_i, best_j, best_k = validation_list_index[np.argmin(validation_list)]   \n",
    "best_criterion = grid_search[0][best_i, best_j, best_k]\n",
    "best_max_depth = grid_search[1][best_i, best_j, best_k]\n",
    "best_min_samples_leaf = grid_search[2][best_i, best_j, best_k]\n",
    "\n",
    "print(\"[DecisionTree] Melhor modelo encontrado: 'criterion'=%s, max_depth=%d, min_samples_leaf=%d\" \n",
    "      % (best_criterion, best_max_depth, best_min_samples_leaf))"
   ]
  },
  {
   "cell_type": "code",
   "execution_count": 13,
   "metadata": {},
   "outputs": [
    {
     "name": "stdout",
     "output_type": "stream",
     "text": [
      "[DecisionTree] Treinando modelo...\n",
      "[DecisionTree] Avaliando modelo...\n",
      "[DecisionTree] Taxa de erro no teste: 25.00%\n"
     ]
    }
   ],
   "source": [
    "print(\"[DecisionTree] Treinando modelo...\")\n",
    "model_tree = DecisionTreeClassifier(criterion=best_criterion, max_depth=best_max_depth, \n",
    "                                    min_samples_leaf=best_min_samples_leaf,\n",
    "                                    presort=True, random_state=1)\n",
    "\n",
    "model_tree.fit(x_train, y_train)\n",
    "\n",
    "print(\"[DecisionTree] Avaliando modelo...\")\n",
    "pred_tree = model_tree.predict(x_test)\n",
    "\n",
    "wrong_index_test_tree = pred_tree != y_test\n",
    "print(\"[DecisionTree] Taxa de erro no teste: %.2f%%\" % (100*np.mean(wrong_index_test_tree)))"
   ]
  },
  {
   "cell_type": "code",
   "execution_count": 14,
   "metadata": {},
   "outputs": [
    {
     "name": "stdout",
     "output_type": "stream",
     "text": [
      "[NeuralNetwork] Treinando modelo...\n",
      "[NeuralNetwork] Avaliando modelo...\n",
      "[NeuralNetwork] Taxa de erro no teste: 20.83%\n"
     ]
    }
   ],
   "source": [
    "print(\"[NeuralNetwork] Treinando modelo...\")\n",
    "\n",
    "num_hidden_nodes = 20\n",
    "activation = 'tanh'\n",
    "output = 'classification'\n",
    "alpha = 10**-2\n",
    "mini_batch_size = 10\n",
    "num_epochs = 5000\n",
    "momentum = 0.9\n",
    "weight_decay = 0\n",
    "\n",
    "model_mlp = neural_network.mlp_train(x=x_train_validation, y=y_train_validation_encoding,\n",
    "                                     x_validation=x_validation, y_validation=y_validation_encoding,\n",
    "                                     num_hidden_nodes=num_hidden_nodes, activation=activation, output=output,\n",
    "                                     num_epochs=num_epochs, alpha=alpha, mini_batch_size=mini_batch_size,\n",
    "                                     momentum=momentum, weight_decay=weight_decay, compute_loss=True)  \n",
    "\n",
    "print(\"[NeuralNetwork] Avaliando modelo...\")\n",
    "pred_nn = neural_network.mlp_predict(model_mlp, x_test, return_class=True)   \n",
    "\n",
    "\n",
    "wrong_index_test_nn = y_test != neural_network.mlp_predict(model_mlp, x_test, return_class=True)   \n",
    "print(\"[NeuralNetwork] Taxa de erro no teste: %.2f%%\" % (100*np.mean(wrong_index_test_nn)))"
   ]
  },
  {
   "cell_type": "code",
   "execution_count": 15,
   "metadata": {},
   "outputs": [
    {
     "name": "stdout",
     "output_type": "stream",
     "text": [
      "[SVM] Treinando modelo...\n",
      "[SVM] Avaliando modelo...\n",
      "[SVM] Taxa de erro no teste: 23.21%\n"
     ]
    }
   ],
   "source": [
    "print(\"[SVM] Treinando modelo...\")\n",
    "\n",
    "model_svm = svm.SVC(gamma='auto')\n",
    "\n",
    "model_svm.fit(x_train, y_train) \n",
    "\n",
    "print(\"[SVM] Avaliando modelo...\")\n",
    "pred_svm = model_svm.predict(x_test)\n",
    "\n",
    "wrong_index_test_svm = pred_svm != y_test\n",
    "print(\"[SVM] Taxa de erro no teste: %.2f%%\" % (100*np.mean(wrong_index_test_svm)))"
   ]
  },
  {
   "cell_type": "markdown",
   "metadata": {},
   "source": [
    "## Sumário dos resultados"
   ]
  },
  {
   "cell_type": "code",
   "execution_count": 16,
   "metadata": {},
   "outputs": [
    {
     "ename": "NameError",
     "evalue": "name 'pred_svmq' is not defined",
     "output_type": "error",
     "traceback": [
      "\u001b[0;31m---------------------------------------------------------------------------\u001b[0m",
      "\u001b[0;31mNameError\u001b[0m                                 Traceback (most recent call last)",
      "\u001b[0;32m<ipython-input-16-2d0bd93fbb35>\u001b[0m in \u001b[0;36m<module>\u001b[0;34m\u001b[0m\n\u001b[1;32m      1\u001b[0m \u001b[0mmodel_names\u001b[0m \u001b[0;34m=\u001b[0m \u001b[0;34m[\u001b[0m\u001b[0;34m\"LogisticRegression\"\u001b[0m\u001b[0;34m,\u001b[0m \u001b[0;34m\"GaussianDiscriminantAnalysis\"\u001b[0m\u001b[0;34m,\u001b[0m \u001b[0;34m\"GaussianNaiveBayes\"\u001b[0m\u001b[0;34m,\u001b[0m \u001b[0;34m\"KNN\"\u001b[0m\u001b[0;34m,\u001b[0m \u001b[0;34m\"DecisionTree\"\u001b[0m\u001b[0;34m,\u001b[0m\u001b[0;34m\"NeuralNetwork\"\u001b[0m\u001b[0;34m,\u001b[0m\u001b[0;34m\"SVM\"\u001b[0m\u001b[0;34m]\u001b[0m\u001b[0;34m\u001b[0m\u001b[0;34m\u001b[0m\u001b[0m\n\u001b[0;32m----> 2\u001b[0;31m \u001b[0mmodel_preds\u001b[0m \u001b[0;34m=\u001b[0m \u001b[0;34m[\u001b[0m\u001b[0mpred_logreg\u001b[0m\u001b[0;34m,\u001b[0m \u001b[0mpred_gda\u001b[0m\u001b[0;34m,\u001b[0m \u001b[0mpred_gnb\u001b[0m\u001b[0;34m,\u001b[0m \u001b[0mpred_knn\u001b[0m\u001b[0;34m,\u001b[0m \u001b[0mpred_tree\u001b[0m\u001b[0;34m,\u001b[0m\u001b[0mpred_nn\u001b[0m\u001b[0;34m,\u001b[0m\u001b[0mpred_svmq\u001b[0m\u001b[0;34m]\u001b[0m\u001b[0;34m\u001b[0m\u001b[0;34m\u001b[0m\u001b[0m\n\u001b[0m\u001b[1;32m      3\u001b[0m \u001b[0;34m\u001b[0m\u001b[0m\n\u001b[1;32m      4\u001b[0m \u001b[0mprint\u001b[0m\u001b[0;34m(\u001b[0m\u001b[0;34m\"Sumário dos resultados de classificação:\\n\"\u001b[0m\u001b[0;34m)\u001b[0m\u001b[0;34m\u001b[0m\u001b[0;34m\u001b[0m\u001b[0m\n\u001b[1;32m      5\u001b[0m \u001b[0;32mfor\u001b[0m \u001b[0mi\u001b[0m \u001b[0;32min\u001b[0m \u001b[0mrange\u001b[0m\u001b[0;34m(\u001b[0m\u001b[0mlen\u001b[0m\u001b[0;34m(\u001b[0m\u001b[0mmodel_names\u001b[0m\u001b[0;34m)\u001b[0m\u001b[0;34m)\u001b[0m\u001b[0;34m:\u001b[0m\u001b[0;34m\u001b[0m\u001b[0;34m\u001b[0m\u001b[0m\n",
      "\u001b[0;31mNameError\u001b[0m: name 'pred_svmq' is not defined"
     ]
    }
   ],
   "source": [
    "model_names = [\"LogisticRegression\", \"GaussianDiscriminantAnalysis\", \"GaussianNaiveBayes\", \"KNN\", \"DecisionTree\",\"NeuralNetwork\",\"SVM\"]\n",
    "model_preds = [pred_logreg, pred_gda, pred_gnb, pred_knn, pred_tree,pred_nn,pred_svm]\n",
    "\n",
    "print(\"Sumário dos resultados de classificação:\\n\")\n",
    "for i in range(len(model_names)):\n",
    "    print(\"[%s] Taxa de erro no teste: %.2f%%\" % (model_names[i], 100*np.mean(y_test != model_preds[i])))"
   ]
  },
  {
   "cell_type": "code",
   "execution_count": null,
   "metadata": {},
   "outputs": [],
   "source": [
    "print(\"Matrizes de confusão:\\n\")\n",
    "for i in range(len(model_names)):\n",
    "    com.plot_confusion_matrix(y_test, y_pred=model_preds[i], classes=label_names,\n",
    "                          title=\"Confusion matrix - \" + model_names[i])\n",
    "    plt.show()"
   ]
  },
  {
   "cell_type": "code",
   "execution_count": null,
   "metadata": {},
   "outputs": [],
   "source": [
    "if np.unique(y_train).shape[0] == 2:    \n",
    "    print(\"Métricas para classificação binária:\\n\")\n",
    "    positive_class = 0\n",
    "    negative_class = 1 - positive_class\n",
    "    for i in range(len(model_names)):\n",
    "        tp = np.sum(model_preds[i][np.argwhere(y_test == positive_class)] == positive_class)\n",
    "        fn = np.sum(model_preds[i][np.argwhere(y_test == positive_class)] == negative_class)\n",
    "        fp = np.sum(model_preds[i][np.argwhere(y_test == negative_class)] == positive_class)\n",
    "        revocacao = tp / (tp + fn)\n",
    "        precisao = tp / (tp + fp)\n",
    "        f_score = 2 * revocacao * precisao / (revocacao + precisao)\n",
    "        print(\"[%s] Revocação no teste: %.4f\" % (model_names[i], revocacao))\n",
    "        print(\"[%s] Precisão no teste: %.4f\" % (model_names[i], precisao))\n",
    "        print(\"[%s] F1 score no teste: %.4f\" % (model_names[i], f_score))"
   ]
  },
  {
   "cell_type": "code",
   "execution_count": null,
   "metadata": {},
   "outputs": [],
   "source": [
    "from sklearn.tree import export_graphviz\n",
    "from sklearn.externals.six import StringIO  \n",
    "from IPython.display import Image  \n",
    "import pydotplus\n",
    "\n",
    "dot_data = StringIO()\n",
    "export_graphviz(model_tree, out_file=dot_data,  \n",
    "                filled=True, rounded=True,\n",
    "                special_characters=True, class_names=[str(l) for l in label_names])\n",
    "graph = pydotplus.graph_from_dot_data(dot_data.getvalue())  \n",
    "#graph.write_png('tree.png')\n",
    "Image(graph.create_png())"
   ]
  }
 ],
 "metadata": {
  "kernelspec": {
   "display_name": "Python 3",
   "language": "python",
   "name": "python3"
  },
  "language_info": {
   "codemirror_mode": {
    "name": "ipython",
    "version": 3
   },
   "file_extension": ".py",
   "mimetype": "text/x-python",
   "name": "python",
   "nbconvert_exporter": "python",
   "pygments_lexer": "ipython3",
   "version": "3.7.1"
  }
 },
 "nbformat": 4,
 "nbformat_minor": 2
}
